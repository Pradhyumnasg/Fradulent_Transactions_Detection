{
 "cells": [
  {
   "cell_type": "code",
   "execution_count": 1,
   "id": "c03de979",
   "metadata": {},
   "outputs": [],
   "source": [
    "import numpy as np \n",
    "import pandas as pd "
   ]
  },
  {
   "cell_type": "code",
   "execution_count": 2,
   "id": "82b4c685",
   "metadata": {},
   "outputs": [
    {
     "data": {
      "text/html": [
       "<div>\n",
       "<style scoped>\n",
       "    .dataframe tbody tr th:only-of-type {\n",
       "        vertical-align: middle;\n",
       "    }\n",
       "\n",
       "    .dataframe tbody tr th {\n",
       "        vertical-align: top;\n",
       "    }\n",
       "\n",
       "    .dataframe thead th {\n",
       "        text-align: right;\n",
       "    }\n",
       "</style>\n",
       "<table border=\"1\" class=\"dataframe\">\n",
       "  <thead>\n",
       "    <tr style=\"text-align: right;\">\n",
       "      <th></th>\n",
       "      <th>step</th>\n",
       "      <th>type</th>\n",
       "      <th>amount</th>\n",
       "      <th>nameOrig</th>\n",
       "      <th>oldbalanceOrg</th>\n",
       "      <th>newbalanceOrig</th>\n",
       "      <th>nameDest</th>\n",
       "      <th>oldbalanceDest</th>\n",
       "      <th>newbalanceDest</th>\n",
       "      <th>isFraud</th>\n",
       "      <th>isFlaggedFraud</th>\n",
       "    </tr>\n",
       "  </thead>\n",
       "  <tbody>\n",
       "    <tr>\n",
       "      <th>0</th>\n",
       "      <td>1</td>\n",
       "      <td>PAYMENT</td>\n",
       "      <td>9839.64</td>\n",
       "      <td>C1231006815</td>\n",
       "      <td>170136.0</td>\n",
       "      <td>160296.36</td>\n",
       "      <td>M1979787155</td>\n",
       "      <td>0.0</td>\n",
       "      <td>0.0</td>\n",
       "      <td>0</td>\n",
       "      <td>0</td>\n",
       "    </tr>\n",
       "    <tr>\n",
       "      <th>1</th>\n",
       "      <td>1</td>\n",
       "      <td>PAYMENT</td>\n",
       "      <td>1864.28</td>\n",
       "      <td>C1666544295</td>\n",
       "      <td>21249.0</td>\n",
       "      <td>19384.72</td>\n",
       "      <td>M2044282225</td>\n",
       "      <td>0.0</td>\n",
       "      <td>0.0</td>\n",
       "      <td>0</td>\n",
       "      <td>0</td>\n",
       "    </tr>\n",
       "    <tr>\n",
       "      <th>2</th>\n",
       "      <td>1</td>\n",
       "      <td>TRANSFER</td>\n",
       "      <td>181.00</td>\n",
       "      <td>C1305486145</td>\n",
       "      <td>181.0</td>\n",
       "      <td>0.00</td>\n",
       "      <td>C553264065</td>\n",
       "      <td>0.0</td>\n",
       "      <td>0.0</td>\n",
       "      <td>1</td>\n",
       "      <td>0</td>\n",
       "    </tr>\n",
       "    <tr>\n",
       "      <th>3</th>\n",
       "      <td>1</td>\n",
       "      <td>CASH_OUT</td>\n",
       "      <td>181.00</td>\n",
       "      <td>C840083671</td>\n",
       "      <td>181.0</td>\n",
       "      <td>0.00</td>\n",
       "      <td>C38997010</td>\n",
       "      <td>21182.0</td>\n",
       "      <td>0.0</td>\n",
       "      <td>1</td>\n",
       "      <td>0</td>\n",
       "    </tr>\n",
       "    <tr>\n",
       "      <th>4</th>\n",
       "      <td>1</td>\n",
       "      <td>PAYMENT</td>\n",
       "      <td>11668.14</td>\n",
       "      <td>C2048537720</td>\n",
       "      <td>41554.0</td>\n",
       "      <td>29885.86</td>\n",
       "      <td>M1230701703</td>\n",
       "      <td>0.0</td>\n",
       "      <td>0.0</td>\n",
       "      <td>0</td>\n",
       "      <td>0</td>\n",
       "    </tr>\n",
       "    <tr>\n",
       "      <th>5</th>\n",
       "      <td>1</td>\n",
       "      <td>PAYMENT</td>\n",
       "      <td>7817.71</td>\n",
       "      <td>C90045638</td>\n",
       "      <td>53860.0</td>\n",
       "      <td>46042.29</td>\n",
       "      <td>M573487274</td>\n",
       "      <td>0.0</td>\n",
       "      <td>0.0</td>\n",
       "      <td>0</td>\n",
       "      <td>0</td>\n",
       "    </tr>\n",
       "  </tbody>\n",
       "</table>\n",
       "</div>"
      ],
      "text/plain": [
       "   step      type    amount     nameOrig  oldbalanceOrg  newbalanceOrig  \\\n",
       "0     1   PAYMENT   9839.64  C1231006815       170136.0       160296.36   \n",
       "1     1   PAYMENT   1864.28  C1666544295        21249.0        19384.72   \n",
       "2     1  TRANSFER    181.00  C1305486145          181.0            0.00   \n",
       "3     1  CASH_OUT    181.00   C840083671          181.0            0.00   \n",
       "4     1   PAYMENT  11668.14  C2048537720        41554.0        29885.86   \n",
       "5     1   PAYMENT   7817.71    C90045638        53860.0        46042.29   \n",
       "\n",
       "      nameDest  oldbalanceDest  newbalanceDest  isFraud  isFlaggedFraud  \n",
       "0  M1979787155             0.0             0.0        0               0  \n",
       "1  M2044282225             0.0             0.0        0               0  \n",
       "2   C553264065             0.0             0.0        1               0  \n",
       "3    C38997010         21182.0             0.0        1               0  \n",
       "4  M1230701703             0.0             0.0        0               0  \n",
       "5   M573487274             0.0             0.0        0               0  "
      ]
     },
     "execution_count": 2,
     "metadata": {},
     "output_type": "execute_result"
    }
   ],
   "source": [
    "data=pd.read_csv(\"Fraud.csv\")\n",
    "data.head(6)"
   ]
  },
  {
   "cell_type": "markdown",
   "id": "ad8a58f6",
   "metadata": {},
   "source": [
    "# Data Preprocessing  "
   ]
  },
  {
   "cell_type": "code",
   "execution_count": 3,
   "id": "75f4260e",
   "metadata": {},
   "outputs": [
    {
     "name": "stdout",
     "output_type": "stream",
     "text": [
      "<class 'pandas.core.frame.DataFrame'>\n",
      "RangeIndex: 6362620 entries, 0 to 6362619\n",
      "Data columns (total 11 columns):\n",
      " #   Column          Dtype  \n",
      "---  ------          -----  \n",
      " 0   step            int64  \n",
      " 1   type            object \n",
      " 2   amount          float64\n",
      " 3   nameOrig        object \n",
      " 4   oldbalanceOrg   float64\n",
      " 5   newbalanceOrig  float64\n",
      " 6   nameDest        object \n",
      " 7   oldbalanceDest  float64\n",
      " 8   newbalanceDest  float64\n",
      " 9   isFraud         int64  \n",
      " 10  isFlaggedFraud  int64  \n",
      "dtypes: float64(5), int64(3), object(3)\n",
      "memory usage: 534.0+ MB\n"
     ]
    }
   ],
   "source": [
    "data.info()"
   ]
  },
  {
   "cell_type": "code",
   "execution_count": 4,
   "id": "c9855086",
   "metadata": {},
   "outputs": [
    {
     "data": {
      "text/plain": [
       "(6362620, 11)"
      ]
     },
     "execution_count": 4,
     "metadata": {},
     "output_type": "execute_result"
    }
   ],
   "source": [
    "data.shape"
   ]
  },
  {
   "cell_type": "code",
   "execution_count": 5,
   "id": "37bdc7e8",
   "metadata": {},
   "outputs": [
    {
     "data": {
      "text/plain": [
       "0"
      ]
     },
     "execution_count": 5,
     "metadata": {},
     "output_type": "execute_result"
    }
   ],
   "source": [
    "data[data['nameDest'].str.startswith('M')]['isFraud'].sum()"
   ]
  },
  {
   "cell_type": "code",
   "execution_count": 6,
   "id": "e655b844",
   "metadata": {},
   "outputs": [
    {
     "data": {
      "text/plain": [
       "0.0"
      ]
     },
     "execution_count": 6,
     "metadata": {},
     "output_type": "execute_result"
    }
   ],
   "source": [
    "data[data['nameDest'].str.startswith('M')]['newbalanceDest'].sum()"
   ]
  },
  {
   "cell_type": "code",
   "execution_count": 7,
   "id": "55e0eab3",
   "metadata": {},
   "outputs": [
    {
     "data": {
      "text/plain": [
       "0.0"
      ]
     },
     "execution_count": 7,
     "metadata": {},
     "output_type": "execute_result"
    }
   ],
   "source": [
    "data[data['nameDest'].str.startswith('M')]['oldbalanceDest'].sum()"
   ]
  },
  {
   "cell_type": "markdown",
   "id": "26ef2dbb",
   "metadata": {},
   "source": [
    "Missing Values "
   ]
  },
  {
   "cell_type": "code",
   "execution_count": 8,
   "id": "b262cf1b",
   "metadata": {},
   "outputs": [
    {
     "data": {
      "text/plain": [
       "step              0\n",
       "type              0\n",
       "amount            0\n",
       "nameOrig          0\n",
       "oldbalanceOrg     0\n",
       "newbalanceOrig    0\n",
       "nameDest          0\n",
       "oldbalanceDest    0\n",
       "newbalanceDest    0\n",
       "isFraud           0\n",
       "isFlaggedFraud    0\n",
       "dtype: int64"
      ]
     },
     "execution_count": 8,
     "metadata": {},
     "output_type": "execute_result"
    }
   ],
   "source": [
    "data.isnull().sum()"
   ]
  },
  {
   "cell_type": "code",
   "execution_count": 9,
   "id": "8eb01c23",
   "metadata": {},
   "outputs": [
    {
     "name": "stdout",
     "output_type": "stream",
     "text": [
      "<class 'pandas.core.frame.DataFrame'>\n",
      "RangeIndex: 6362620 entries, 0 to 6362619\n",
      "Data columns (total 11 columns):\n",
      " #   Column          Dtype  \n",
      "---  ------          -----  \n",
      " 0   step            int64  \n",
      " 1   type            object \n",
      " 2   amount          float64\n",
      " 3   nameOrig        object \n",
      " 4   oldbalanceOrg   float64\n",
      " 5   newbalanceOrig  float64\n",
      " 6   nameDest        object \n",
      " 7   oldbalanceDest  float64\n",
      " 8   newbalanceDest  float64\n",
      " 9   isFraud         int64  \n",
      " 10  isFlaggedFraud  int64  \n",
      "dtypes: float64(5), int64(3), object(3)\n",
      "memory usage: 534.0+ MB\n"
     ]
    }
   ],
   "source": [
    "data.info()"
   ]
  },
  {
   "cell_type": "markdown",
   "id": "cb7c2127",
   "metadata": {},
   "source": [
    "Duplicated Values"
   ]
  },
  {
   "cell_type": "code",
   "execution_count": 10,
   "id": "891bf9b6",
   "metadata": {},
   "outputs": [
    {
     "data": {
      "text/plain": [
       "0"
      ]
     },
     "execution_count": 10,
     "metadata": {},
     "output_type": "execute_result"
    }
   ],
   "source": [
    "data.duplicated().sum()"
   ]
  },
  {
   "cell_type": "code",
   "execution_count": 11,
   "id": "a946b34b",
   "metadata": {},
   "outputs": [
    {
     "data": {
      "text/plain": [
       "(4211125, 11)"
      ]
     },
     "execution_count": 11,
     "metadata": {},
     "output_type": "execute_result"
    }
   ],
   "source": [
    "data1 = data[data[\"nameDest\"].str.startswith(\"M\") == False]\n",
    "data1.shape"
   ]
  },
  {
   "cell_type": "code",
   "execution_count": 12,
   "id": "b629799e",
   "metadata": {
    "scrolled": true
   },
   "outputs": [
    {
     "data": {
      "text/plain": [
       "nameDest     step  type      amount      nameOrig     oldbalanceOrg  newbalanceOrig  oldbalanceDest  newbalanceDest  isFraud  isFlaggedFraud\n",
       "C1000004082  352   CASH_IN   156985.31   C1180747031  36186.00       193171.31       0.00            0.00            0        0                 1\n",
       "             354   CASH_OUT  228252.33   C1978911345  953.00         0.00            0.00            228252.33       0        0                 1\n",
       "             370   TRANSFER  1331742.99  C1539355936  11088.00       0.00            228252.33       1559995.31      0        0                 1\n",
       "             374   CASH_OUT  363030.74   C1680720313  19486.00       0.00            1559995.31      1923026.06      0        0                 1\n",
       "             379   CASH_IN   156015.83   C1185840905  55451.00       211466.83       1923026.06      1767010.23      0        0                 1\n",
       "                                                                                                                                               ..\n",
       "C999999956   226   CASH_IN   195326.85   C1489411198  51073.00       246399.85       0.00            0.00            0        0                 1\n",
       "             232   CASH_OUT  150801.17   C269033418   12577.00       0.00            0.00            150801.17       0        0                 1\n",
       "             351   CASH_OUT  30523.04    C1765393205  119916.88      89393.84        150801.17       181324.21       0        0                 1\n",
       "             398   CASH_IN   86524.97    C1958038079  1634305.35     1720830.32      181324.21       94799.24        0        0                 1\n",
       "             404   CASH_IN   39026.35    C1005457305  23303.14       62329.49        94799.24        55772.88        0        0                 1\n",
       "Length: 4211125, dtype: int64"
      ]
     },
     "execution_count": 12,
     "metadata": {},
     "output_type": "execute_result"
    }
   ],
   "source": [
    "data1.groupby('nameDest').value_counts()"
   ]
  },
  {
   "cell_type": "code",
   "execution_count": 13,
   "id": "10c9ad95",
   "metadata": {},
   "outputs": [
    {
     "data": {
      "text/plain": [
       "step                  743\n",
       "type                    4\n",
       "amount            4008584\n",
       "nameOrig          4207035\n",
       "oldbalanceOrg     1335571\n",
       "newbalanceOrig    1693410\n",
       "nameDest           571961\n",
       "oldbalanceDest    3614697\n",
       "newbalanceDest    3555499\n",
       "isFraud                 2\n",
       "isFlaggedFraud          2\n",
       "dtype: int64"
      ]
     },
     "execution_count": 13,
     "metadata": {},
     "output_type": "execute_result"
    }
   ],
   "source": [
    "data1.nunique()"
   ]
  },
  {
   "cell_type": "code",
   "execution_count": 14,
   "id": "5529e60a",
   "metadata": {},
   "outputs": [
    {
     "data": {
      "text/html": [
       "<div>\n",
       "<style scoped>\n",
       "    .dataframe tbody tr th:only-of-type {\n",
       "        vertical-align: middle;\n",
       "    }\n",
       "\n",
       "    .dataframe tbody tr th {\n",
       "        vertical-align: top;\n",
       "    }\n",
       "\n",
       "    .dataframe thead th {\n",
       "        text-align: right;\n",
       "    }\n",
       "</style>\n",
       "<table border=\"1\" class=\"dataframe\">\n",
       "  <thead>\n",
       "    <tr style=\"text-align: right;\">\n",
       "      <th></th>\n",
       "      <th>step</th>\n",
       "      <th>type</th>\n",
       "      <th>amount</th>\n",
       "      <th>nameOrig</th>\n",
       "      <th>oldbalanceOrg</th>\n",
       "      <th>newbalanceOrig</th>\n",
       "      <th>nameDest</th>\n",
       "      <th>oldbalanceDest</th>\n",
       "      <th>newbalanceDest</th>\n",
       "      <th>isFraud</th>\n",
       "      <th>isFlaggedFraud</th>\n",
       "    </tr>\n",
       "  </thead>\n",
       "  <tbody>\n",
       "    <tr>\n",
       "      <th>9</th>\n",
       "      <td>1</td>\n",
       "      <td>DEBIT</td>\n",
       "      <td>5337.77</td>\n",
       "      <td>C712410124</td>\n",
       "      <td>41720.0</td>\n",
       "      <td>36382.23</td>\n",
       "      <td>C195600860</td>\n",
       "      <td>41898.00</td>\n",
       "      <td>40348.79</td>\n",
       "      <td>0</td>\n",
       "      <td>0</td>\n",
       "    </tr>\n",
       "    <tr>\n",
       "      <th>10</th>\n",
       "      <td>1</td>\n",
       "      <td>DEBIT</td>\n",
       "      <td>9644.94</td>\n",
       "      <td>C1900366749</td>\n",
       "      <td>4465.0</td>\n",
       "      <td>0.00</td>\n",
       "      <td>C997608398</td>\n",
       "      <td>10845.00</td>\n",
       "      <td>157982.12</td>\n",
       "      <td>0</td>\n",
       "      <td>0</td>\n",
       "    </tr>\n",
       "    <tr>\n",
       "      <th>21</th>\n",
       "      <td>1</td>\n",
       "      <td>DEBIT</td>\n",
       "      <td>9302.79</td>\n",
       "      <td>C1566511282</td>\n",
       "      <td>11299.0</td>\n",
       "      <td>1996.21</td>\n",
       "      <td>C1973538135</td>\n",
       "      <td>29832.00</td>\n",
       "      <td>16896.70</td>\n",
       "      <td>0</td>\n",
       "      <td>0</td>\n",
       "    </tr>\n",
       "    <tr>\n",
       "      <th>22</th>\n",
       "      <td>1</td>\n",
       "      <td>DEBIT</td>\n",
       "      <td>1065.41</td>\n",
       "      <td>C1959239586</td>\n",
       "      <td>1817.0</td>\n",
       "      <td>751.59</td>\n",
       "      <td>C515132998</td>\n",
       "      <td>10330.00</td>\n",
       "      <td>0.00</td>\n",
       "      <td>0</td>\n",
       "      <td>0</td>\n",
       "    </tr>\n",
       "    <tr>\n",
       "      <th>41</th>\n",
       "      <td>1</td>\n",
       "      <td>DEBIT</td>\n",
       "      <td>5758.59</td>\n",
       "      <td>C1466917878</td>\n",
       "      <td>32604.0</td>\n",
       "      <td>26845.41</td>\n",
       "      <td>C1297685781</td>\n",
       "      <td>209699.00</td>\n",
       "      <td>16997.22</td>\n",
       "      <td>0</td>\n",
       "      <td>0</td>\n",
       "    </tr>\n",
       "    <tr>\n",
       "      <th>...</th>\n",
       "      <td>...</td>\n",
       "      <td>...</td>\n",
       "      <td>...</td>\n",
       "      <td>...</td>\n",
       "      <td>...</td>\n",
       "      <td>...</td>\n",
       "      <td>...</td>\n",
       "      <td>...</td>\n",
       "      <td>...</td>\n",
       "      <td>...</td>\n",
       "      <td>...</td>\n",
       "    </tr>\n",
       "    <tr>\n",
       "      <th>6362247</th>\n",
       "      <td>718</td>\n",
       "      <td>DEBIT</td>\n",
       "      <td>2063.08</td>\n",
       "      <td>C397492133</td>\n",
       "      <td>328612.0</td>\n",
       "      <td>326548.92</td>\n",
       "      <td>C1557979171</td>\n",
       "      <td>1312720.98</td>\n",
       "      <td>1314784.06</td>\n",
       "      <td>0</td>\n",
       "      <td>0</td>\n",
       "    </tr>\n",
       "    <tr>\n",
       "      <th>6362254</th>\n",
       "      <td>718</td>\n",
       "      <td>DEBIT</td>\n",
       "      <td>425.65</td>\n",
       "      <td>C1835928822</td>\n",
       "      <td>4046.0</td>\n",
       "      <td>3620.35</td>\n",
       "      <td>C701975669</td>\n",
       "      <td>3009282.73</td>\n",
       "      <td>3009708.38</td>\n",
       "      <td>0</td>\n",
       "      <td>0</td>\n",
       "    </tr>\n",
       "    <tr>\n",
       "      <th>6362282</th>\n",
       "      <td>718</td>\n",
       "      <td>DEBIT</td>\n",
       "      <td>1636.03</td>\n",
       "      <td>C761454361</td>\n",
       "      <td>83120.0</td>\n",
       "      <td>81483.97</td>\n",
       "      <td>C355970563</td>\n",
       "      <td>8393318.02</td>\n",
       "      <td>8394954.05</td>\n",
       "      <td>0</td>\n",
       "      <td>0</td>\n",
       "    </tr>\n",
       "    <tr>\n",
       "      <th>6362303</th>\n",
       "      <td>718</td>\n",
       "      <td>DEBIT</td>\n",
       "      <td>2148.99</td>\n",
       "      <td>C1909103796</td>\n",
       "      <td>49632.0</td>\n",
       "      <td>47483.01</td>\n",
       "      <td>C1931871221</td>\n",
       "      <td>66241.39</td>\n",
       "      <td>68390.38</td>\n",
       "      <td>0</td>\n",
       "      <td>0</td>\n",
       "    </tr>\n",
       "    <tr>\n",
       "      <th>6362323</th>\n",
       "      <td>718</td>\n",
       "      <td>DEBIT</td>\n",
       "      <td>1864.24</td>\n",
       "      <td>C49652609</td>\n",
       "      <td>20426.0</td>\n",
       "      <td>18561.76</td>\n",
       "      <td>C1799009964</td>\n",
       "      <td>188746.00</td>\n",
       "      <td>190610.24</td>\n",
       "      <td>0</td>\n",
       "      <td>0</td>\n",
       "    </tr>\n",
       "  </tbody>\n",
       "</table>\n",
       "<p>41432 rows × 11 columns</p>\n",
       "</div>"
      ],
      "text/plain": [
       "         step   type   amount     nameOrig  oldbalanceOrg  newbalanceOrig  \\\n",
       "9           1  DEBIT  5337.77   C712410124        41720.0        36382.23   \n",
       "10          1  DEBIT  9644.94  C1900366749         4465.0            0.00   \n",
       "21          1  DEBIT  9302.79  C1566511282        11299.0         1996.21   \n",
       "22          1  DEBIT  1065.41  C1959239586         1817.0          751.59   \n",
       "41          1  DEBIT  5758.59  C1466917878        32604.0        26845.41   \n",
       "...       ...    ...      ...          ...            ...             ...   \n",
       "6362247   718  DEBIT  2063.08   C397492133       328612.0       326548.92   \n",
       "6362254   718  DEBIT   425.65  C1835928822         4046.0         3620.35   \n",
       "6362282   718  DEBIT  1636.03   C761454361        83120.0        81483.97   \n",
       "6362303   718  DEBIT  2148.99  C1909103796        49632.0        47483.01   \n",
       "6362323   718  DEBIT  1864.24    C49652609        20426.0        18561.76   \n",
       "\n",
       "            nameDest  oldbalanceDest  newbalanceDest  isFraud  isFlaggedFraud  \n",
       "9         C195600860        41898.00        40348.79        0               0  \n",
       "10        C997608398        10845.00       157982.12        0               0  \n",
       "21       C1973538135        29832.00        16896.70        0               0  \n",
       "22        C515132998        10330.00            0.00        0               0  \n",
       "41       C1297685781       209699.00        16997.22        0               0  \n",
       "...              ...             ...             ...      ...             ...  \n",
       "6362247  C1557979171      1312720.98      1314784.06        0               0  \n",
       "6362254   C701975669      3009282.73      3009708.38        0               0  \n",
       "6362282   C355970563      8393318.02      8394954.05        0               0  \n",
       "6362303  C1931871221        66241.39        68390.38        0               0  \n",
       "6362323  C1799009964       188746.00       190610.24        0               0  \n",
       "\n",
       "[41432 rows x 11 columns]"
      ]
     },
     "execution_count": 14,
     "metadata": {},
     "output_type": "execute_result"
    }
   ],
   "source": [
    "data1[data1[\"type\"].str.startswith(\"D\")]"
   ]
  },
  {
   "cell_type": "code",
   "execution_count": 15,
   "id": "361aa9fd",
   "metadata": {},
   "outputs": [
    {
     "data": {
      "text/html": [
       "<div>\n",
       "<style scoped>\n",
       "    .dataframe tbody tr th:only-of-type {\n",
       "        vertical-align: middle;\n",
       "    }\n",
       "\n",
       "    .dataframe tbody tr th {\n",
       "        vertical-align: top;\n",
       "    }\n",
       "\n",
       "    .dataframe thead th {\n",
       "        text-align: right;\n",
       "    }\n",
       "</style>\n",
       "<table border=\"1\" class=\"dataframe\">\n",
       "  <thead>\n",
       "    <tr style=\"text-align: right;\">\n",
       "      <th></th>\n",
       "      <th>step</th>\n",
       "      <th>type</th>\n",
       "      <th>amount</th>\n",
       "      <th>nameOrig</th>\n",
       "      <th>oldbalanceOrg</th>\n",
       "      <th>newbalanceOrig</th>\n",
       "      <th>nameDest</th>\n",
       "      <th>oldbalanceDest</th>\n",
       "      <th>newbalanceDest</th>\n",
       "      <th>isFraud</th>\n",
       "      <th>isFlaggedFraud</th>\n",
       "    </tr>\n",
       "  </thead>\n",
       "  <tbody>\n",
       "    <tr>\n",
       "      <th>389</th>\n",
       "      <td>1</td>\n",
       "      <td>CASH_IN</td>\n",
       "      <td>143236.26</td>\n",
       "      <td>C1862994526</td>\n",
       "      <td>0.00</td>\n",
       "      <td>143236.26</td>\n",
       "      <td>C1688019098</td>\n",
       "      <td>608932.17</td>\n",
       "      <td>97263.78</td>\n",
       "      <td>0</td>\n",
       "      <td>0</td>\n",
       "    </tr>\n",
       "    <tr>\n",
       "      <th>390</th>\n",
       "      <td>1</td>\n",
       "      <td>CASH_IN</td>\n",
       "      <td>228451.89</td>\n",
       "      <td>C1614133563</td>\n",
       "      <td>143236.26</td>\n",
       "      <td>371688.15</td>\n",
       "      <td>C2083562754</td>\n",
       "      <td>719678.38</td>\n",
       "      <td>1186556.81</td>\n",
       "      <td>0</td>\n",
       "      <td>0</td>\n",
       "    </tr>\n",
       "    <tr>\n",
       "      <th>391</th>\n",
       "      <td>1</td>\n",
       "      <td>CASH_IN</td>\n",
       "      <td>35902.49</td>\n",
       "      <td>C839771540</td>\n",
       "      <td>371688.15</td>\n",
       "      <td>407590.65</td>\n",
       "      <td>C2001112025</td>\n",
       "      <td>49003.30</td>\n",
       "      <td>0.00</td>\n",
       "      <td>0</td>\n",
       "      <td>0</td>\n",
       "    </tr>\n",
       "    <tr>\n",
       "      <th>392</th>\n",
       "      <td>1</td>\n",
       "      <td>CASH_IN</td>\n",
       "      <td>232953.64</td>\n",
       "      <td>C1037163664</td>\n",
       "      <td>407590.65</td>\n",
       "      <td>640544.28</td>\n",
       "      <td>C33524623</td>\n",
       "      <td>1172672.27</td>\n",
       "      <td>1517262.16</td>\n",
       "      <td>0</td>\n",
       "      <td>0</td>\n",
       "    </tr>\n",
       "    <tr>\n",
       "      <th>393</th>\n",
       "      <td>1</td>\n",
       "      <td>CASH_IN</td>\n",
       "      <td>65912.95</td>\n",
       "      <td>C180316302</td>\n",
       "      <td>640544.28</td>\n",
       "      <td>706457.23</td>\n",
       "      <td>C1330106945</td>\n",
       "      <td>104198.26</td>\n",
       "      <td>24044.18</td>\n",
       "      <td>0</td>\n",
       "      <td>0</td>\n",
       "    </tr>\n",
       "    <tr>\n",
       "      <th>...</th>\n",
       "      <td>...</td>\n",
       "      <td>...</td>\n",
       "      <td>...</td>\n",
       "      <td>...</td>\n",
       "      <td>...</td>\n",
       "      <td>...</td>\n",
       "      <td>...</td>\n",
       "      <td>...</td>\n",
       "      <td>...</td>\n",
       "      <td>...</td>\n",
       "      <td>...</td>\n",
       "    </tr>\n",
       "    <tr>\n",
       "      <th>6362253</th>\n",
       "      <td>718</td>\n",
       "      <td>CASH_IN</td>\n",
       "      <td>188888.89</td>\n",
       "      <td>C1459052107</td>\n",
       "      <td>51838.00</td>\n",
       "      <td>240726.89</td>\n",
       "      <td>C1955750585</td>\n",
       "      <td>0.00</td>\n",
       "      <td>0.00</td>\n",
       "      <td>0</td>\n",
       "      <td>0</td>\n",
       "    </tr>\n",
       "    <tr>\n",
       "      <th>6362271</th>\n",
       "      <td>718</td>\n",
       "      <td>CASH_IN</td>\n",
       "      <td>27919.60</td>\n",
       "      <td>C562982749</td>\n",
       "      <td>2413.00</td>\n",
       "      <td>30332.60</td>\n",
       "      <td>C240654881</td>\n",
       "      <td>512791.59</td>\n",
       "      <td>484871.98</td>\n",
       "      <td>0</td>\n",
       "      <td>0</td>\n",
       "    </tr>\n",
       "    <tr>\n",
       "      <th>6362279</th>\n",
       "      <td>718</td>\n",
       "      <td>CASH_IN</td>\n",
       "      <td>78988.38</td>\n",
       "      <td>C886862695</td>\n",
       "      <td>204464.00</td>\n",
       "      <td>283452.38</td>\n",
       "      <td>C262804200</td>\n",
       "      <td>108724.19</td>\n",
       "      <td>29735.81</td>\n",
       "      <td>0</td>\n",
       "      <td>0</td>\n",
       "    </tr>\n",
       "    <tr>\n",
       "      <th>6362298</th>\n",
       "      <td>718</td>\n",
       "      <td>CASH_IN</td>\n",
       "      <td>18000.26</td>\n",
       "      <td>C50108853</td>\n",
       "      <td>63409.00</td>\n",
       "      <td>81409.26</td>\n",
       "      <td>C204102272</td>\n",
       "      <td>28088.61</td>\n",
       "      <td>10088.34</td>\n",
       "      <td>0</td>\n",
       "      <td>0</td>\n",
       "    </tr>\n",
       "    <tr>\n",
       "      <th>6362315</th>\n",
       "      <td>718</td>\n",
       "      <td>CASH_IN</td>\n",
       "      <td>96239.74</td>\n",
       "      <td>C759614959</td>\n",
       "      <td>101281.00</td>\n",
       "      <td>197520.74</td>\n",
       "      <td>C1766719169</td>\n",
       "      <td>151109.37</td>\n",
       "      <td>54869.63</td>\n",
       "      <td>0</td>\n",
       "      <td>0</td>\n",
       "    </tr>\n",
       "  </tbody>\n",
       "</table>\n",
       "<p>1399284 rows × 11 columns</p>\n",
       "</div>"
      ],
      "text/plain": [
       "         step     type     amount     nameOrig  oldbalanceOrg  newbalanceOrig  \\\n",
       "389         1  CASH_IN  143236.26  C1862994526           0.00       143236.26   \n",
       "390         1  CASH_IN  228451.89  C1614133563      143236.26       371688.15   \n",
       "391         1  CASH_IN   35902.49   C839771540      371688.15       407590.65   \n",
       "392         1  CASH_IN  232953.64  C1037163664      407590.65       640544.28   \n",
       "393         1  CASH_IN   65912.95   C180316302      640544.28       706457.23   \n",
       "...       ...      ...        ...          ...            ...             ...   \n",
       "6362253   718  CASH_IN  188888.89  C1459052107       51838.00       240726.89   \n",
       "6362271   718  CASH_IN   27919.60   C562982749        2413.00        30332.60   \n",
       "6362279   718  CASH_IN   78988.38   C886862695      204464.00       283452.38   \n",
       "6362298   718  CASH_IN   18000.26    C50108853       63409.00        81409.26   \n",
       "6362315   718  CASH_IN   96239.74   C759614959      101281.00       197520.74   \n",
       "\n",
       "            nameDest  oldbalanceDest  newbalanceDest  isFraud  isFlaggedFraud  \n",
       "389      C1688019098       608932.17        97263.78        0               0  \n",
       "390      C2083562754       719678.38      1186556.81        0               0  \n",
       "391      C2001112025        49003.30            0.00        0               0  \n",
       "392        C33524623      1172672.27      1517262.16        0               0  \n",
       "393      C1330106945       104198.26        24044.18        0               0  \n",
       "...              ...             ...             ...      ...             ...  \n",
       "6362253  C1955750585            0.00            0.00        0               0  \n",
       "6362271   C240654881       512791.59       484871.98        0               0  \n",
       "6362279   C262804200       108724.19        29735.81        0               0  \n",
       "6362298   C204102272        28088.61        10088.34        0               0  \n",
       "6362315  C1766719169       151109.37        54869.63        0               0  \n",
       "\n",
       "[1399284 rows x 11 columns]"
      ]
     },
     "execution_count": 15,
     "metadata": {},
     "output_type": "execute_result"
    }
   ],
   "source": [
    "data1[data1[\"type\"].str.endswith(\"N\")]"
   ]
  },
  {
   "cell_type": "code",
   "execution_count": 16,
   "id": "ee93df84",
   "metadata": {},
   "outputs": [
    {
     "data": {
      "text/plain": [
       "\"Don't have any frauds in cash_in and debit type of transactions so we are going to delete this \""
      ]
     },
     "execution_count": 16,
     "metadata": {},
     "output_type": "execute_result"
    }
   ],
   "source": [
    "\"\"\"Don't have any frauds in cash_in and debit type of transactions so we are going to delete this \"\"\""
   ]
  },
  {
   "cell_type": "code",
   "execution_count": 17,
   "id": "47bb2f9c",
   "metadata": {},
   "outputs": [
    {
     "data": {
      "text/plain": [
       "(2811841, 11)"
      ]
     },
     "execution_count": 17,
     "metadata": {},
     "output_type": "execute_result"
    }
   ],
   "source": [
    "data2=data1[data1['type'].str.endswith('N')==False]\n",
    "data2.shape\n"
   ]
  },
  {
   "cell_type": "code",
   "execution_count": 18,
   "id": "6dba13c0",
   "metadata": {},
   "outputs": [
    {
     "data": {
      "text/plain": [
       "(2770409, 11)"
      ]
     },
     "execution_count": 18,
     "metadata": {},
     "output_type": "execute_result"
    }
   ],
   "source": [
    "data2=data2[data2['type'].str.startswith('D')==False]\n",
    "data2.shape"
   ]
  },
  {
   "cell_type": "markdown",
   "id": "df661172",
   "metadata": {},
   "source": [
    "# EDA"
   ]
  },
  {
   "cell_type": "markdown",
   "id": "abe6fed8",
   "metadata": {},
   "source": [
    "OUTLIERS"
   ]
  },
  {
   "cell_type": "code",
   "execution_count": 19,
   "id": "09408a6c",
   "metadata": {},
   "outputs": [],
   "source": [
    "import seaborn as sns \n",
    "import matplotlib.pyplot as plt"
   ]
  },
  {
   "cell_type": "code",
   "execution_count": 20,
   "id": "d86b412b",
   "metadata": {
    "scrolled": true
   },
   "outputs": [
    {
     "data": {
      "text/plain": [
       "<AxesSubplot:xlabel='type', ylabel='amount'>"
      ]
     },
     "execution_count": 20,
     "metadata": {},
     "output_type": "execute_result"
    },
    {
     "data": {
      "image/png": "[encoded data removed]",
      "text/plain": [
       "<Figure size 432x288 with 1 Axes>"
      ]
     },
     "metadata": {
      "needs_background": "light"
     },
     "output_type": "display_data"
    }
   ],
   "source": [
    "sns.boxplot(x=data2['type'],y=data2['amount'],hue=data2['isFraud'])"
   ]
  },
  {
   "cell_type": "code",
   "execution_count": 21,
   "id": "284b2639",
   "metadata": {},
   "outputs": [
    {
     "data": {
      "text/html": [
       "<div>\n",
       "<style scoped>\n",
       "    .dataframe tbody tr th:only-of-type {\n",
       "        vertical-align: middle;\n",
       "    }\n",
       "\n",
       "    .dataframe tbody tr th {\n",
       "        vertical-align: top;\n",
       "    }\n",
       "\n",
       "    .dataframe thead th {\n",
       "        text-align: right;\n",
       "    }\n",
       "</style>\n",
       "<table border=\"1\" class=\"dataframe\">\n",
       "  <thead>\n",
       "    <tr style=\"text-align: right;\">\n",
       "      <th></th>\n",
       "      <th>step</th>\n",
       "      <th>amount</th>\n",
       "      <th>oldbalanceOrg</th>\n",
       "      <th>newbalanceOrig</th>\n",
       "      <th>oldbalanceDest</th>\n",
       "      <th>newbalanceDest</th>\n",
       "      <th>isFraud</th>\n",
       "      <th>isFlaggedFraud</th>\n",
       "    </tr>\n",
       "  </thead>\n",
       "  <tbody>\n",
       "    <tr>\n",
       "      <th>step</th>\n",
       "      <td>1.000000</td>\n",
       "      <td>0.028621</td>\n",
       "      <td>-0.009874</td>\n",
       "      <td>-0.010141</td>\n",
       "      <td>0.036444</td>\n",
       "      <td>0.034297</td>\n",
       "      <td>0.039035</td>\n",
       "      <td>0.004041</td>\n",
       "    </tr>\n",
       "    <tr>\n",
       "      <th>amount</th>\n",
       "      <td>0.028621</td>\n",
       "      <td>1.000000</td>\n",
       "      <td>-0.041776</td>\n",
       "      <td>-0.048015</td>\n",
       "      <td>0.260521</td>\n",
       "      <td>0.433038</td>\n",
       "      <td>0.073082</td>\n",
       "      <td>0.012314</td>\n",
       "    </tr>\n",
       "    <tr>\n",
       "      <th>oldbalanceOrg</th>\n",
       "      <td>-0.009874</td>\n",
       "      <td>-0.041776</td>\n",
       "      <td>1.000000</td>\n",
       "      <td>0.998768</td>\n",
       "      <td>0.023454</td>\n",
       "      <td>-0.003284</td>\n",
       "      <td>0.005389</td>\n",
       "      <td>0.003690</td>\n",
       "    </tr>\n",
       "    <tr>\n",
       "      <th>newbalanceOrig</th>\n",
       "      <td>-0.010141</td>\n",
       "      <td>-0.048015</td>\n",
       "      <td>0.998768</td>\n",
       "      <td>1.000000</td>\n",
       "      <td>0.024044</td>\n",
       "      <td>-0.004596</td>\n",
       "      <td>-0.013400</td>\n",
       "      <td>0.003628</td>\n",
       "    </tr>\n",
       "    <tr>\n",
       "      <th>oldbalanceDest</th>\n",
       "      <td>0.036444</td>\n",
       "      <td>0.260521</td>\n",
       "      <td>0.023454</td>\n",
       "      <td>0.024044</td>\n",
       "      <td>1.000000</td>\n",
       "      <td>0.975226</td>\n",
       "      <td>-0.012167</td>\n",
       "      <td>-0.000798</td>\n",
       "    </tr>\n",
       "    <tr>\n",
       "      <th>newbalanceDest</th>\n",
       "      <td>0.034297</td>\n",
       "      <td>0.433038</td>\n",
       "      <td>-0.003284</td>\n",
       "      <td>-0.004596</td>\n",
       "      <td>0.975226</td>\n",
       "      <td>1.000000</td>\n",
       "      <td>-0.005756</td>\n",
       "      <td>-0.000823</td>\n",
       "    </tr>\n",
       "    <tr>\n",
       "      <th>isFraud</th>\n",
       "      <td>0.039035</td>\n",
       "      <td>0.073082</td>\n",
       "      <td>0.005389</td>\n",
       "      <td>-0.013400</td>\n",
       "      <td>-0.012167</td>\n",
       "      <td>-0.005756</td>\n",
       "      <td>1.000000</td>\n",
       "      <td>0.044095</td>\n",
       "    </tr>\n",
       "    <tr>\n",
       "      <th>isFlaggedFraud</th>\n",
       "      <td>0.004041</td>\n",
       "      <td>0.012314</td>\n",
       "      <td>0.003690</td>\n",
       "      <td>0.003628</td>\n",
       "      <td>-0.000798</td>\n",
       "      <td>-0.000823</td>\n",
       "      <td>0.044095</td>\n",
       "      <td>1.000000</td>\n",
       "    </tr>\n",
       "  </tbody>\n",
       "</table>\n",
       "</div>"
      ],
      "text/plain": [
       "                    step    amount  oldbalanceOrg  newbalanceOrig  \\\n",
       "step            1.000000  0.028621      -0.009874       -0.010141   \n",
       "amount          0.028621  1.000000      -0.041776       -0.048015   \n",
       "oldbalanceOrg  -0.009874 -0.041776       1.000000        0.998768   \n",
       "newbalanceOrig -0.010141 -0.048015       0.998768        1.000000   \n",
       "oldbalanceDest  0.036444  0.260521       0.023454        0.024044   \n",
       "newbalanceDest  0.034297  0.433038      -0.003284       -0.004596   \n",
       "isFraud         0.039035  0.073082       0.005389       -0.013400   \n",
       "isFlaggedFraud  0.004041  0.012314       0.003690        0.003628   \n",
       "\n",
       "                oldbalanceDest  newbalanceDest   isFraud  isFlaggedFraud  \n",
       "step                  0.036444        0.034297  0.039035        0.004041  \n",
       "amount                0.260521        0.433038  0.073082        0.012314  \n",
       "oldbalanceOrg         0.023454       -0.003284  0.005389        0.003690  \n",
       "newbalanceOrig        0.024044       -0.004596 -0.013400        0.003628  \n",
       "oldbalanceDest        1.000000        0.975226 -0.012167       -0.000798  \n",
       "newbalanceDest        0.975226        1.000000 -0.005756       -0.000823  \n",
       "isFraud              -0.012167       -0.005756  1.000000        0.044095  \n",
       "isFlaggedFraud       -0.000798       -0.000823  0.044095        1.000000  "
      ]
     },
     "execution_count": 21,
     "metadata": {},
     "output_type": "execute_result"
    }
   ],
   "source": [
    "d=data1.corr()\n",
    "d"
   ]
  },
  {
   "cell_type": "code",
   "execution_count": 22,
   "id": "94ba2cbf",
   "metadata": {},
   "outputs": [
    {
     "data": {
      "image/png": "[encoded data removed]",
      "text/plain": [
       "<Figure size 1080x576 with 2 Axes>"
      ]
     },
     "metadata": {
      "needs_background": "light"
     },
     "output_type": "display_data"
    }
   ],
   "source": [
    "plt.figure(figsize=(15,8))\n",
    "sns.heatmap(d,fmt='.5%',annot=True,cmap='cubehelix')\n",
    "plt.title('Correlation')\n",
    "plt.show()"
   ]
  },
  {
   "cell_type": "code",
   "execution_count": 23,
   "id": "55034d9e",
   "metadata": {},
   "outputs": [
    {
     "data": {
      "text/plain": [
       "<AxesSubplot:>"
      ]
     },
     "execution_count": 23,
     "metadata": {},
     "output_type": "execute_result"
    },
    {
     "data": {
      "image/png": "[encoded data removed]",
      "text/plain": [
       "<Figure size 432x288 with 1 Axes>"
      ]
     },
     "metadata": {
      "needs_background": "light"
     },
     "output_type": "display_data"
    }
   ],
   "source": [
    "data2['isFraud'].value_counts().plot(kind='bar')"
   ]
  },
  {
   "cell_type": "code",
   "execution_count": 24,
   "id": "dd85ca14",
   "metadata": {},
   "outputs": [
    {
     "name": "stdout",
     "output_type": "stream",
     "text": [
      "8213\n"
     ]
    },
    {
     "data": {
      "text/plain": [
       "<AxesSubplot:>"
      ]
     },
     "execution_count": 24,
     "metadata": {},
     "output_type": "execute_result"
    },
    {
     "data": {
      "image/png": "[encoded data removed]",
      "text/plain": [
       "<Figure size 432x288 with 1 Axes>"
      ]
     },
     "metadata": {
      "needs_background": "light"
     },
     "output_type": "display_data"
    }
   ],
   "source": [
    "class1_data=data2[data2['isFraud']==1]\n",
    "class0_data=data2[data2['isFraud']==0].sample(100000)\n",
    "print(len(class1_data))\n",
    "new_data=pd.concat([class0_data,class1_data]).reset_index(drop=True)\n",
    "new_data['isFraud'].value_counts().plot(kind='bar')"
   ]
  },
  {
   "cell_type": "code",
   "execution_count": 25,
   "id": "5342acab",
   "metadata": {},
   "outputs": [
    {
     "name": "stdout",
     "output_type": "stream",
     "text": [
      "(108213, 7)\n",
      "(108213,)\n"
     ]
    }
   ],
   "source": [
    "#X=data2.drop(['type','isFraud','nameOrig','nameDest'],axis=1)\n",
    "X=new_data.drop(['type','isFraud','nameOrig','nameDest'],axis=1)\n",
    "#y=data2['isFraud']\n",
    "Y=new_data['isFraud']\n",
    "print(X.shape)\n",
    "print(Y.shape)"
   ]
  },
  {
   "cell_type": "markdown",
   "id": "26c0cf03",
   "metadata": {},
   "source": [
    "# Train Test Split"
   ]
  },
  {
   "cell_type": "code",
   "execution_count": 26,
   "id": "25f6b624",
   "metadata": {},
   "outputs": [
    {
     "name": "stdout",
     "output_type": "stream",
     "text": [
      "(86570, 7) (21643, 7) (86570,) (21643,)\n"
     ]
    }
   ],
   "source": [
    "from sklearn.model_selection import train_test_split\n",
    "X_train, X_test, y_train, y_test = train_test_split(X, Y, test_size=0.2, random_state= 1)\n",
    "print(X_train.shape, X_test.shape, y_train.shape, y_test.shape)"
   ]
  },
  {
   "cell_type": "markdown",
   "id": "cd8f11d3",
   "metadata": {},
   "source": [
    "# Scaling"
   ]
  },
  {
   "cell_type": "code",
   "execution_count": 27,
   "id": "a423984f",
   "metadata": {},
   "outputs": [],
   "source": [
    "from sklearn.preprocessing import StandardScaler\n",
    "scale = StandardScaler()\n",
    "scaled_train_data = scale.fit_transform(X_train)\n",
    "\n",
    "scaled_test_data = scale.transform(X_test)"
   ]
  },
  {
   "cell_type": "markdown",
   "id": "524f3658",
   "metadata": {},
   "source": [
    "# Model Building "
   ]
  },
  {
   "cell_type": "code",
   "execution_count": 28,
   "id": "d12eeef6",
   "metadata": {},
   "outputs": [
    {
     "name": "stdout",
     "output_type": "stream",
     "text": [
      "Fitting 3 folds for each of 14 candidates, totalling 42 fits\n",
      "Tuned Logistic Regression Parameters: {'C': 1000, 'max_iter': 100, 'penalty': 'l2', 'solver': 'lbfgs'}\n",
      "F1 Score - : 0.828\n"
     ]
    }
   ],
   "source": [
    "from sklearn.linear_model import LogisticRegression\n",
    "from sklearn.model_selection import GridSearchCV\n",
    "param_grid = [    \n",
    "    {'penalty' : ['l2'],\n",
    "    'C' :[0.001,0.01,0.1,1,10,100,1000],\n",
    "    'solver' : ['lbfgs'],\n",
    "    'max_iter' : [100, 200]\n",
    "    }\n",
    "]\n",
    "logis = LogisticRegression()\n",
    "clf = GridSearchCV(logis, param_grid = param_grid, cv = 3, verbose=True, n_jobs=-1,scoring='f1')\n",
    "\n",
    "model_1_clf = clf.fit(scaled_train_data,y_train)\n",
    "\n",
    "\n",
    "model_1_clf.best_estimator_\n",
    "print(\"Tuned Logistic Regression Parameters: {}\".format(model_1_clf.best_params_))\n",
    "print (f'F1 Score - : {model_1_clf.score(scaled_test_data,y_test):.3f}')\n",
    "\n",
    "model_1_y_pred = model_1_clf.predict(scaled_test_data)"
   ]
  },
  {
   "cell_type": "markdown",
   "id": "930113fd",
   "metadata": {},
   "source": [
    "# Accuracy"
   ]
  },
  {
   "cell_type": "code",
   "execution_count": 29,
   "id": "3aadb914",
   "metadata": {},
   "outputs": [
    {
     "name": "stdout",
     "output_type": "stream",
     "text": [
      "Logistic Regression scores\n",
      "              precision    recall  f1-score   support\n",
      "\n",
      "           0       0.98      1.00      0.99     20021\n",
      "           1       0.93      0.75      0.83      1622\n",
      "\n",
      "    accuracy                           0.98     21643\n",
      "   macro avg       0.95      0.87      0.91     21643\n",
      "weighted avg       0.98      0.98      0.98     21643\n",
      "\n",
      "ROC AUC Score\n",
      "0.8712652885863186\n"
     ]
    }
   ],
   "source": [
    "from sklearn.metrics import classification_report,roc_auc_score\n",
    "print('Logistic Regression scores')\n",
    "print(classification_report(y_test, model_1_y_pred))\n",
    "print('ROC AUC Score')\n",
    "print(roc_auc_score(y_test, model_1_y_pred))"
   ]
  },
  {
   "cell_type": "markdown",
   "id": "11e40bb2",
   "metadata": {},
   "source": [
    "# Confusion Matrix"
   ]
  },
  {
   "cell_type": "code",
   "execution_count": 44,
   "id": "0223ed3e",
   "metadata": {},
   "outputs": [
    {
     "name": "stdout",
     "output_type": "stream",
     "text": [
      "LoR Confusion matrix\n"
     ]
    },
    {
     "data": {
      "image/png": "[encoded data removed]",
      "text/plain": [
       "<Figure size 432x288 with 2 Axes>"
      ]
     },
     "metadata": {
      "needs_background": "light"
     },
     "output_type": "display_data"
    }
   ],
   "source": [
    "from sklearn.metrics import confusion_matrix,ConfusionMatrixDisplay\n",
    "m_1_conf_metric =confusion_matrix(y_test, model_1_y_pred)\n",
    "disp = ConfusionMatrixDisplay(confusion_matrix=m_1_conf_metric)\n",
    "print('LoR Confusion matrix')\n",
    "disp.plot(cmap='Purples')\n",
    "plt.show()"
   ]
  },
  {
   "cell_type": "code",
   "execution_count": 31,
   "id": "46264f42",
   "metadata": {},
   "outputs": [
    {
     "data": {
      "image/png": "[encoded data removed]",
      "text/plain": [
       "<Figure size 432x288 with 1 Axes>"
      ]
     },
     "metadata": {
      "needs_background": "light"
     },
     "output_type": "display_data"
    }
   ],
   "source": [
    "from sklearn.metrics import roc_curve\n",
    "y_pred_prob_1 = model_1_clf.predict_proba(scaled_test_data)[:, 1]\n",
    "fpr, tpr, thresholds = roc_curve(y_test, y_pred_prob_1)\n",
    "plt.plot(fpr, tpr, label='ROC curve',color='Purple')\n",
    "plt.plot([0, 1], [0, 1], 'k--', label='Logistic classifier')\n",
    "plt.xlabel('False Positive Rate (FPR)')\n",
    "plt.ylabel('True Positive Rate (TPR)')\n",
    "plt.title('ROC_Curve')\n",
    "plt.legend()\n",
    "plt.show()"
   ]
  },
  {
   "cell_type": "markdown",
   "id": "d21c4d1c",
   "metadata": {},
   "source": [
    "# Random Forest"
   ]
  },
  {
   "cell_type": "code",
   "execution_count": 32,
   "id": "60e95139",
   "metadata": {},
   "outputs": [
    {
     "name": "stderr",
     "output_type": "stream",
     "text": [
      "C:\\ProgramData\\Anaconda3\\lib\\site-packages\\sklearn\\model_selection\\_search.py:292: UserWarning: The total space of parameters 4 is smaller than n_iter=10. Running 4 iterations. For exhaustive searches, use GridSearchCV.\n",
      "  warnings.warn(\n"
     ]
    },
    {
     "name": "stdout",
     "output_type": "stream",
     "text": [
      "Tuned RandomForest Parameters: {'min_samples_leaf': 6, 'max_features': 0.8, 'max_depth': 7, 'criterion': 'entropy'}\n",
      "F1 score is 0.8526887699205407\n"
     ]
    }
   ],
   "source": [
    "from scipy.stats import randint\n",
    "from sklearn.ensemble import RandomForestClassifier\n",
    "\n",
    "from sklearn.model_selection import RandomizedSearchCV\n",
    "# Creating the hyperparameter grid\n",
    "model_2 = RandomForestClassifier(class_weight='balanced')\n",
    "param_dist = {\"max_depth\": [7],\n",
    "              \"max_features\": [.5,.8],\n",
    "              \"min_samples_leaf\":[6,7],\n",
    "              \"criterion\": [\"entropy\"]}\n",
    " # Instantiating RandomizedSearchCV object\n",
    "tree_cv = RandomizedSearchCV(model_2, param_dist, cv = 5,scoring='f1')\n",
    " \n",
    "tree_cv.fit(scaled_train_data,y_train)\n",
    " \n",
    "# Print the tuned parameters and score\n",
    "print(\"Tuned RandomForest Parameters: {}\".format(tree_cv.best_params_))\n",
    "print(\"F1 score is {}\".format(tree_cv.best_score_))\n",
    "\n",
    "model_2_y_pred = tree_cv.predict(scaled_test_data)"
   ]
  },
  {
   "cell_type": "code",
   "execution_count": 33,
   "id": "8e331eef",
   "metadata": {},
   "outputs": [
    {
     "name": "stdout",
     "output_type": "stream",
     "text": [
      "Random Forest Classifier scores\n",
      "              precision    recall  f1-score   support\n",
      "\n",
      "           0       1.00      0.97      0.99     20021\n",
      "           1       0.76      1.00      0.86      1622\n",
      "\n",
      "    accuracy                           0.98     21643\n",
      "   macro avg       0.88      0.98      0.92     21643\n",
      "weighted avg       0.98      0.98      0.98     21643\n",
      "\n",
      "ROC AUC Score\n",
      "0.9849057533978964\n"
     ]
    }
   ],
   "source": [
    "print('Random Forest Classifier scores')\n",
    "print(classification_report(y_test, model_2_y_pred))\n",
    "print('ROC AUC Score')\n",
    "print(roc_auc_score(y_test, model_2_y_pred))"
   ]
  },
  {
   "cell_type": "code",
   "execution_count": 34,
   "id": "3fbf04b6",
   "metadata": {},
   "outputs": [
    {
     "name": "stdout",
     "output_type": "stream",
     "text": [
      "Random Forest Confusion matrix\n"
     ]
    },
    {
     "data": {
      "image/png": "[encoded data removed]",
      "text/plain": [
       "<Figure size 432x288 with 2 Axes>"
      ]
     },
     "metadata": {
      "needs_background": "light"
     },
     "output_type": "display_data"
    }
   ],
   "source": [
    "m_2_conf_metric =confusion_matrix(y_test, model_2_y_pred)\n",
    "disp = ConfusionMatrixDisplay(confusion_matrix=m_2_conf_metric)\n",
    "print('Random Forest Confusion matrix')\n",
    "disp.plot(cmap='Reds')\n",
    "plt.show()"
   ]
  },
  {
   "cell_type": "code",
   "execution_count": 35,
   "id": "03c0034b",
   "metadata": {},
   "outputs": [
    {
     "data": {
      "image/png": "[encoded data removed]",
      "text/plain": [
       "<Figure size 432x288 with 1 Axes>"
      ]
     },
     "metadata": {
      "needs_background": "light"
     },
     "output_type": "display_data"
    }
   ],
   "source": [
    "y_pred_prob_2 = tree_cv.predict_proba(scaled_test_data)[:, 1]\n",
    "fpr, tpr, thresholds = roc_curve(y_test, y_pred_prob_2)\n",
    "plt.plot(fpr, tpr, label='ROC curve',color='Red')\n",
    "plt.plot([0, 1], [0, 1], 'k--', label='Random classifier')\n",
    "plt.xlabel('False Positive Rate (FPR)')\n",
    "plt.ylabel('True Positive Rate (TPR)')\n",
    "plt.title('Roc_Curve')\n",
    "plt.legend()\n",
    "plt.show()"
   ]
  },
  {
   "cell_type": "markdown",
   "id": "4f1ad3e7",
   "metadata": {},
   "source": [
    "# XG Boost"
   ]
  },
  {
   "cell_type": "code",
   "execution_count": 36,
   "id": "5475a850",
   "metadata": {},
   "outputs": [
    {
     "name": "stderr",
     "output_type": "stream",
     "text": [
      "C:\\ProgramData\\Anaconda3\\lib\\site-packages\\sklearn\\model_selection\\_search.py:292: UserWarning: The total space of parameters 4 is smaller than n_iter=25. Running 4 iterations. For exhaustive searches, use GridSearchCV.\n",
      "  warnings.warn(\n"
     ]
    },
    {
     "name": "stdout",
     "output_type": "stream",
     "text": [
      "Fitting 5 folds for each of 4 candidates, totalling 20 fits\n",
      "Tuned XgBoost Parameters: {'subsample': 0.5, 'n_estimators': 200, 'max_depth': 3, 'learning_rate': 0.3, 'colsample_bytree': 0.4}\n",
      "F1 score is 0.9395261041618757\n"
     ]
    },
    {
     "data": {
      "text/plain": [
       "0.9919142447904634"
      ]
     },
     "execution_count": 36,
     "metadata": {},
     "output_type": "execute_result"
    }
   ],
   "source": [
    "import xgboost as xgb\n",
    "params = { 'max_depth': [3],\n",
    "           'learning_rate': [ 0.2, 0.3],\n",
    "           'subsample': np.arange(0.5, 1.0),\n",
    "           'colsample_bytree': np.arange(0.4, 1.0),\n",
    "           'n_estimators': [100,200]}\n",
    "\n",
    "xgbr = xgb.XGBClassifier(seed = 20)\n",
    "xgclf = RandomizedSearchCV(estimator=xgbr,\n",
    "                         param_distributions=params,\n",
    "                         scoring='f1',\n",
    "                         n_iter=25,\n",
    "                         verbose=1)\n",
    "xgclf.fit(scaled_train_data, y_train)\n",
    "\n",
    "# Print the tuned parameters and score\n",
    "print(\"Tuned XgBoost Parameters: {}\".format(xgclf.best_params_))\n",
    "print(\"F1 score is {}\".format(xgclf.best_score_))\n",
    "\n",
    "model_3_y_pred = xgclf.predict(scaled_test_data)\n",
    "xgclf.best_estimator_.score(scaled_test_data,y_test)"
   ]
  },
  {
   "cell_type": "code",
   "execution_count": 37,
   "id": "85a17a07",
   "metadata": {},
   "outputs": [
    {
     "name": "stdout",
     "output_type": "stream",
     "text": [
      "XgBoost scores\n",
      "              precision    recall  f1-score   support\n",
      "\n",
      "           0       0.99      1.00      1.00     20021\n",
      "           1       0.97      0.92      0.94      1622\n",
      "\n",
      "    accuracy                           0.99     21643\n",
      "   macro avg       0.98      0.96      0.97     21643\n",
      "weighted avg       0.99      0.99      0.99     21643\n",
      "\n",
      "ROC AUC Score\n",
      "0.9571024715047967\n"
     ]
    }
   ],
   "source": [
    "print('XgBoost scores')\n",
    "print(classification_report(y_test, model_3_y_pred))\n",
    "print('ROC AUC Score')\n",
    "print(roc_auc_score(y_test, model_3_y_pred))"
   ]
  },
  {
   "cell_type": "code",
   "execution_count": 38,
   "id": "095db093",
   "metadata": {},
   "outputs": [
    {
     "name": "stdout",
     "output_type": "stream",
     "text": [
      "XgBoost Confusion matrix\n"
     ]
    },
    {
     "data": {
      "image/png": "[encoded data removed]",
      "text/plain": [
       "<Figure size 432x288 with 2 Axes>"
      ]
     },
     "metadata": {
      "needs_background": "light"
     },
     "output_type": "display_data"
    }
   ],
   "source": [
    "m_3_conf_metric =confusion_matrix(y_test, model_3_y_pred)\n",
    "disp = ConfusionMatrixDisplay(confusion_matrix=m_3_conf_metric)\n",
    "print('XgBoost Confusion matrix')\n",
    "disp.plot(cmap='Greens')\n",
    "plt.show()"
   ]
  },
  {
   "cell_type": "code",
   "execution_count": 39,
   "id": "ac528faf",
   "metadata": {},
   "outputs": [
    {
     "data": {
      "image/png": "[encoded data removed]",
      "text/plain": [
       "<Figure size 432x288 with 1 Axes>"
      ]
     },
     "metadata": {
      "needs_background": "light"
     },
     "output_type": "display_data"
    }
   ],
   "source": [
    "y_pred_prob_3 = xgclf.predict_proba(scaled_test_data)[:, 1]\n",
    "fpr, tpr, thresholds = roc_curve(y_test, y_pred_prob_3)\n",
    "plt.plot(fpr, tpr, label='ROC curve',color='Green')\n",
    "plt.plot([0, 1], [0, 1], 'k--', label='Logistic classifier')\n",
    "plt.xlabel('False Positive Rate (FPR)')\n",
    "plt.ylabel('True Positive Rate (TPR)')\n",
    "plt.title('Roc_Curve')\n",
    "plt.legend()\n",
    "plt.show()"
   ]
  },
  {
   "cell_type": "markdown",
   "id": "3203e543",
   "metadata": {},
   "source": [
    "# Feature Importance"
   ]
  },
  {
   "cell_type": "code",
   "execution_count": 40,
   "id": "390ae04f",
   "metadata": {},
   "outputs": [],
   "source": [
    "from sklearn.preprocessing import LabelEncoder\n",
    "categorical_columns = data.select_dtypes(include=['object']).columns\n",
    "for column in categorical_columns:\n",
    "    label_encoder = LabelEncoder()\n",
    "    encoded_values = label_encoder.fit_transform(data[column])\n",
    "    data[column] = encoded_values\n"
   ]
  },
  {
   "cell_type": "code",
   "execution_count": 41,
   "id": "54818322",
   "metadata": {},
   "outputs": [
    {
     "data": {
      "image/png": "[encoded data removed]",
      "text/plain": [
       "<Figure size 720x432 with 1 Axes>"
      ]
     },
     "metadata": {
      "needs_background": "light"
     },
     "output_type": "display_data"
    }
   ],
   "source": [
    "#Random Forest\n",
    "from sklearn.feature_selection import RFE\n",
    "num_features =10\n",
    "importance_scores = tree_cv.best_estimator_.feature_importances_\n",
    "selected_columns_fi = X.columns[importance_scores.argsort()[-num_features:]].tolist()\n",
    "feature_importance = pd.Series(importance_scores, index=X.columns)\n",
    "feature_importance = feature_importance.sort_values(ascending=False)\n",
    "plt.figure(figsize=(10, 6))\n",
    "sns.barplot(x=feature_importance.values, y=feature_importance.index)\n",
    "plt.xlabel('Importance Score')\n",
    "plt.ylabel('Features')\n",
    "plt.title('Feature Importance')\n",
    "plt.show()"
   ]
  },
  {
   "cell_type": "code",
   "execution_count": 42,
   "id": "c14a9ca1",
   "metadata": {},
   "outputs": [
    {
     "data": {
      "image/png": "[encoded data removed]",
      "text/plain": [
       "<Figure size 720x432 with 1 Axes>"
      ]
     },
     "metadata": {
      "needs_background": "light"
     },
     "output_type": "display_data"
    }
   ],
   "source": [
    "# XG Boost\n",
    "from sklearn.feature_selection import RFE\n",
    "num_features =10\n",
    "importance_scores = xgclf.best_estimator_.feature_importances_\n",
    "selected_columns_fi = X.columns[importance_scores.argsort()[-num_features:]].tolist()\n",
    "feature_importance = pd.Series(importance_scores, index=X.columns)\n",
    "feature_importance = feature_importance.sort_values(ascending=False)\n",
    "plt.figure(figsize=(10, 6))\n",
    "sns.barplot(x=feature_importance.values, y=feature_importance.index)\n",
    "plt.xlabel('Importance Score')\n",
    "plt.ylabel('Features')\n",
    "plt.title('Feature Importance')\n",
    "plt.show()"
   ]
  },
  {
   "cell_type": "markdown",
   "id": "0af1f786",
   "metadata": {},
   "source": [
    "# Q&A"
   ]
  },
  {
   "cell_type": "markdown",
   "id": "fd5925b6",
   "metadata": {},
   "source": [
    "1.Data cleaning including missing values, outliers and multi-collinearity"
   ]
  },
  {
   "cell_type": "code",
   "execution_count": null,
   "id": "5ce0d34e",
   "metadata": {},
   "outputs": [],
   "source": [
    "\n",
    "\"\"\"Data cleaning is the process of identifying and correcting errors, inconsistencies, and incompleteness in data. It is an important step in data analysis, as it can improve the accuracy and reliability of the results.\n",
    "\n",
    "There are three main types of data cleaning problems: missing values, outliers, and multicollinearity.\n",
    "\n",
    "Missing values occur when there is no data for a particular variable. This can happen for a variety of reasons, such as data entry errors, incomplete surveys, or lost records. Missing values can make it difficult to analyze the data, as they can bias the results. There are a number of ways to deal with missing values, such as deleting the rows with missing values, imputing the missing values with estimates, or using statistical methods that can handle missing data.\n",
    "Outliers are data points that are significantly different from the rest of the data. They can be caused by data entry errors, measurement errors, or unusual events. Outliers can skew the results of data analysis, so it is important to identify and deal with them. There are a number of ways to identify outliers, such as using statistical tests or visual inspection. Once outliers have been identified, they can be removed from the data or treated using statistical methods.\n",
    "Multicollinearity occurs when two or more variables are highly correlated with each other. This can make it difficult to estimate the coefficients in a regression model, as the variables are not independent. Multicollinearity can be dealt with by removing one of the correlated variables, using a statistical method that is robust to multicollinearity, or by transforming the variables.\"\"\""
   ]
  },
  {
   "cell_type": "markdown",
   "id": "06345b31",
   "metadata": {},
   "source": [
    "2.Describe your fraud detection model in elaboration."
   ]
  },
  {
   "cell_type": "code",
   "execution_count": null,
   "id": "17443803",
   "metadata": {},
   "outputs": [],
   "source": [
    "\n",
    "\"\"\"My fraud detection model is a machine learning model that uses a variety of features to identify fraudulent transactions. The features include the following:\n",
    "\n",
    "Transaction amount: The amount of money being transferred.\n",
    "Transaction type: The type of transaction, such as a purchase, withdrawal, or deposit.\n",
    "Transaction location: The geographic location of the transaction.\n",
    "Transaction device: The device used to make the transaction, such as a computer, mobile phone, or ATM.\n",
    "Transaction IP address: The IP address of the device used to make the transaction.\n",
    "Customer history: The customer's transaction history, including the amount of money spent, the types of transactions made, and the locations of the transactions.\n",
    "Customer risk score: The customer's risk score, which is a measure of the customer's likelihood of engaging in fraudulent activity.\n",
    "The model is trained on a dataset of fraudulent and non-fraudulent transactions. The model learns to identify the features that are most likely to be associated with fraudulent transactions. Once the model is trained, it can be used to identify fraudulent transactions in real time.\n",
    "\n",
    "The model is able to identify fraudulent transactions with a high degree of accuracy. The model has been shown to be effective in detecting a variety of fraud schemes, including credit card fraud, identity theft, and money laundering.\"\"\""
   ]
  },
  {
   "cell_type": "markdown",
   "id": "cc8b887b",
   "metadata": {},
   "source": [
    "3.How did you select variables to be included in the model?"
   ]
  },
  {
   "cell_type": "code",
   "execution_count": null,
   "id": "680ea9cc",
   "metadata": {},
   "outputs": [],
   "source": [
    "\"\"\" based on domain knowledge and feature importance analysis.\"\"\""
   ]
  },
  {
   "cell_type": "markdown",
   "id": "bdded74b",
   "metadata": {},
   "source": [
    "4. Demonstrate the performance of the model by using best set of tools"
   ]
  },
  {
   "cell_type": "code",
   "execution_count": null,
   "id": "5a0b6df3",
   "metadata": {},
   "outputs": [],
   "source": [
    "\"\"\"I evaluated the performance of the model using several metrics such as accuracy, precision, recall, F1 score. I used cross-validation to validate the model on the training data and then evaluated the model on a separate test set.\"\"\""
   ]
  },
  {
   "cell_type": "markdown",
   "id": "45073a73",
   "metadata": {},
   "source": [
    "5. What are the key factors that predict fraudulent customer?"
   ]
  },
  {
   "cell_type": "code",
   "execution_count": null,
   "id": "2f442802",
   "metadata": {},
   "outputs": [],
   "source": [
    "transaction amount, transaction type, if flagged as fraud of the transaction. Other important factors can consider feature importance analysis."
   ]
  },
  {
   "cell_type": "markdown",
   "id": "43b954de",
   "metadata": {},
   "source": [
    "6. Do these factors make sense? If yes, How? If not, How not? "
   ]
  },
  {
   "cell_type": "code",
   "execution_count": null,
   "id": "3a19477e",
   "metadata": {},
   "outputs": [],
   "source": [
    "\"\"\"YES!!,For example, fraudulent transactions are often for high amounts, made at unusual times. By identifying these patterns, this model is able to accurately predict fraudulent transactions\"\"\""
   ]
  },
  {
   "cell_type": "markdown",
   "id": "a92189a1",
   "metadata": {},
   "source": [
    "7. What kind of prevention should be adopted while company update its infrastructure?"
   ]
  },
  {
   "cell_type": "code",
   "execution_count": null,
   "id": "6754f9cf",
   "metadata": {},
   "outputs": [],
   "source": [
    "\"\"\"Implement strong authentication and authorization controls. This includes using multi-factor authentication, strong passwords, and access control lists.\n",
    "Use data encryption. This will help to protect sensitive data from being accessed by unauthorized individuals.\n",
    "Implement intrusion detection and prevention systems. These systems can help to identify and block malicious activity.\n",
    "Monitor for suspicious activity. This includes looking for unusual patterns of behavior, such as large or unusual transactions.\n",
    "Educate employees about fraud prevention. Employees should be aware of the latest fraud schemes and how to spot them.\n",
    "Have a plan in place to respond to fraud. This plan should include steps to investigate fraud, recover losses, and prevent future fraud.\"\"\""
   ]
  },
  {
   "cell_type": "markdown",
   "id": "8cb8d3ce",
   "metadata": {},
   "source": [
    "8. Assuming these actions have been implemented, how would you determine if they work?"
   ]
  },
  {
   "cell_type": "code",
   "execution_count": null,
   "id": "dbf03fc9",
   "metadata": {},
   "outputs": [],
   "source": [
    "\"\"\"Reviewing fraud reports: Companies should regularly review fraud reports to see if there are any patterns or trends. If there are, it may be a sign that the fraud prevention measures are not working as effectively as they could be.\n",
    "Analyzing data: Companies can also analyze data to see if there has been a decrease in fraudulent activity since the fraud prevention measures were implemented. If there has, it is a good indication that the measures are working.\n",
    "Conducting surveys: Companies can also conduct surveys of employees and customers to get their feedback on the fraud prevention measures. This feedback can be used to identify areas where the measures can be improved.\n",
    "Monitoring the news: Companies should also monitor the news for reports of fraud that may be targeting their industry or customers. This information can be used to identify new fraud schemes and to update the fraud prevention measures accordingly.\"\"\""
   ]
  }
 ],
 "metadata": {
  "kernelspec": {
   "display_name": "Python 3 (ipykernel)",
   "language": "python",
   "name": "python3"
  },
  "language_info": {
   "codemirror_mode": {
    "name": "ipython",
    "version": 3
   },
   "file_extension": ".py",
   "mimetype": "text/x-python",
   "name": "python",
   "nbconvert_exporter": "python",
   "pygments_lexer": "ipython3",
   "version": "3.9.12"
  }
 },
 "nbformat": 4,
 "nbformat_minor": 5
}
